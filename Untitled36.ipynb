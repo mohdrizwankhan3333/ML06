{
 "cells": [
  {
   "cell_type": "code",
   "execution_count": null,
   "id": "9da13f15-e3e4-49e5-8ed9-f8d62d66a6a6",
   "metadata": {},
   "outputs": [],
   "source": [
    "Q1. Ordinal encoding assigns ordered integers; label encoding assigns unique integers without order. Choose ordinal for ratings (low, medium, high) and label for names.\n",
    "\n",
    "Q2. Target Guided Ordinal Encoding orders categories based on the target variable's mean. Example: Encode job roles based on average salary to prioritize higher-earning roles.\n",
    "\n",
    "Q3. Covariance measures the relationship between two variables' variability. It’s important for understanding linear relationships. Calculated as the mean of the product of deviations.\n",
    "\n",
    "Q4.\n",
    "```python\n",
    "from sklearn.preprocessing import LabelEncoder\n",
    "\n",
    "data = {'Color': ['red', 'green', 'blue'], 'Size': ['small', 'medium', 'large'], 'Material': ['wood', 'metal', 'plastic']}\n",
    "encoder = LabelEncoder()\n",
    "\n",
    "encoded_data = {col: encoder.fit_transform(data[col]) for col in data}\n",
    "print(encoded_data)\n",
    "```\n",
    "This code converts categories to integers.\n",
    "\n",
    "Q5.\n",
    "1. Calculate mean of Age, Income, Education.\n",
    "2. Find deviations from means.\n",
    "3. Multiply deviations, find mean of these products.\n",
    "4. Covariance matrix shows variable relationships.\n",
    "\n",
    "Q6. Use one-hot encoding for \"Gender\" and \"Employment Status\" to avoid ordinal implications. Use ordinal encoding for \"Education Level\" since it has a natural order.\n",
    "\n",
    "Q7.\n",
    "1. Calculate covariance matrix for Temperature and Humidity.\n",
    "2. Covariance between categorical variables can't be calculated directly.\n",
    "3. Use one-hot encoding for categorical variables, then calculate pairwise covariances.\n"
   ]
  }
 ],
 "metadata": {
  "kernelspec": {
   "display_name": "Python 3 (ipykernel)",
   "language": "python",
   "name": "python3"
  },
  "language_info": {
   "codemirror_mode": {
    "name": "ipython",
    "version": 3
   },
   "file_extension": ".py",
   "mimetype": "text/x-python",
   "name": "python",
   "nbconvert_exporter": "python",
   "pygments_lexer": "ipython3",
   "version": "3.10.8"
  }
 },
 "nbformat": 4,
 "nbformat_minor": 5
}
